{
 "cells": [
  {
   "cell_type": "markdown",
   "id": "5c00fa4b-fd52-414b-82eb-ad0b971c237d",
   "metadata": {},
   "source": [
    "# Data Science Tools and Ecosystem"
   ]
  },
  {
   "cell_type": "markdown",
   "id": "99b581df-08ba-4d86-b9ce-3339b2137440",
   "metadata": {},
   "source": [
    "In this notebook, Data Science Tools and Ecosystem are summarized.\n",
    "\n",
    "***Objectives:***\n",
    "- List popular languages for Data Science\n",
    "- List popular libraries for Data Science\n",
    "- Creat a table "
   ]
  },
  {
   "cell_type": "markdown",
   "id": "490858a6-7218-4c59-801d-cf12d4a23159",
   "metadata": {},
   "source": [
    "Some of the popular languages that Data Scientists use are:\n",
    "1. Python\n",
    "2. R\n",
    "3. SQL"
   ]
  },
  {
   "cell_type": "markdown",
   "id": "c1f9cb3e-f337-4594-a77a-8fbb9319ce45",
   "metadata": {},
   "source": [
    "Some of the commonly used libraries used by Data Scientists include:\n",
    "1. Numpy\n",
    "2. Pandas\n",
    "3. Keras"
   ]
  },
  {
   "cell_type": "markdown",
   "id": "cc2b21ee-28da-4e69-b372-875d75bbecce",
   "metadata": {},
   "source": [
    "|Data Science Tools|\n",
    "---------------------\n",
    "|Jupyter Notebook|\n",
    "|Rstudio|\n",
    "|Apache Spark|"
   ]
  },
  {
   "cell_type": "markdown",
   "id": "765e54d4-0a5f-40c8-a531-42b9d48052f0",
   "metadata": {},
   "source": [
    "### Below are a few examples of evaluating arithmetic expressions in Python."
   ]
  },
  {
   "cell_type": "code",
   "execution_count": 13,
   "id": "2bd03bba-8805-4940-bb10-7d47eee51877",
   "metadata": {},
   "outputs": [
    {
     "data": {
      "text/plain": [
       "17"
      ]
     },
     "execution_count": 13,
     "metadata": {},
     "output_type": "execute_result"
    }
   ],
   "source": [
    "# This a simple arithmetic expression to muliply then add integers\n",
    "(3*4)+5"
   ]
  },
  {
   "cell_type": "code",
   "execution_count": 15,
   "id": "1149788c-0f8c-430f-a149-0d30e71a13a6",
   "metadata": {},
   "outputs": [
    {
     "data": {
      "text/plain": [
       "3"
      ]
     },
     "execution_count": 15,
     "metadata": {},
     "output_type": "execute_result"
    }
   ],
   "source": [
    "#  This will convert 200 minutes to hours by diving by 60\n",
    "200//60"
   ]
  },
  {
   "cell_type": "markdown",
   "id": "b76bc392-6afc-4764-bd07-58a94ce9ad53",
   "metadata": {},
   "source": [
    "## Author \n",
    "Neda "
   ]
  },
  {
   "cell_type": "code",
   "execution_count": null,
   "id": "65aac18e-757f-484c-8ffe-b343e9bd4b7d",
   "metadata": {},
   "outputs": [],
   "source": []
  }
 ],
 "metadata": {
  "kernelspec": {
   "display_name": "anaconda-2024.02-py310",
   "language": "python",
   "name": "conda-env-anaconda-2024.02-py310-py"
  },
  "language_info": {
   "codemirror_mode": {
    "name": "ipython",
    "version": 3
   },
   "file_extension": ".py",
   "mimetype": "text/x-python",
   "name": "python",
   "nbconvert_exporter": "python",
   "pygments_lexer": "ipython3",
   "version": "3.10.14"
  }
 },
 "nbformat": 4,
 "nbformat_minor": 5
}
